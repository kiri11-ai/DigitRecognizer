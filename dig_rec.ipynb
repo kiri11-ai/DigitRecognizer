{
 "cells": [
  {
   "cell_type": "code",
   "execution_count": 1,
   "metadata": {
    "_cell_guid": "b1076dfc-b9ad-4769-8c92-a6c4dae69d19",
    "_uuid": "8f2839f25d086af736a60e9eeb907d3b93b6e0e5",
    "execution": {
     "iopub.execute_input": "2021-03-13T11:44:03.263483Z",
     "iopub.status.busy": "2021-03-13T11:44:03.262756Z",
     "iopub.status.idle": "2021-03-13T11:44:08.882216Z",
     "shell.execute_reply": "2021-03-13T11:44:08.880908Z"
    },
    "papermill": {
     "duration": 5.633519,
     "end_time": "2021-03-13T11:44:08.882325",
     "exception": false,
     "start_time": "2021-03-13T11:44:03.248806",
     "status": "completed"
    },
    "tags": []
   },
   "outputs": [
    {
     "name": "stdout",
     "output_type": "stream",
     "text": [
      "/kaggle/input/digit-recognizer/sample_submission.csv\n",
      "/kaggle/input/digit-recognizer/train.csv\n",
      "/kaggle/input/digit-recognizer/test.csv\n"
     ]
    }
   ],
   "source": [
    "import tensorflow as tf\n",
    "from tensorflow import keras\n",
    "from tensorflow.keras.layers import Dense\n",
    "from tensorflow.keras.models import Sequential\n",
    "from tensorflow.keras.backend import clear_session\n",
    "import tensorflow.keras.layers as L\n",
    "import numpy as np\n",
    "import pandas as pd\n",
    "import sklearn\n",
    "from sklearn.metrics import accuracy_score\n",
    "import matplotlib.pyplot as plt\n",
    "\n",
    "import os\n",
    "for dirname, _, filenames in os.walk('/kaggle/input'):\n",
    "    for filename in filenames:\n",
    "        print(os.path.join(dirname, filename))"
   ]
  },
  {
   "cell_type": "markdown",
   "metadata": {
    "papermill": {
     "duration": 0.006889,
     "end_time": "2021-03-13T11:44:08.896935",
     "exception": false,
     "start_time": "2021-03-13T11:44:08.890046",
     "status": "completed"
    },
    "tags": []
   },
   "source": [
    "## Data preprocessing"
   ]
  },
  {
   "cell_type": "code",
   "execution_count": 2,
   "metadata": {
    "execution": {
     "iopub.execute_input": "2021-03-13T11:44:08.916070Z",
     "iopub.status.busy": "2021-03-13T11:44:08.915472Z",
     "iopub.status.idle": "2021-03-13T11:44:14.173969Z",
     "shell.execute_reply": "2021-03-13T11:44:14.172548Z"
    },
    "papermill": {
     "duration": 5.270197,
     "end_time": "2021-03-13T11:44:14.174083",
     "exception": false,
     "start_time": "2021-03-13T11:44:08.903886",
     "status": "completed"
    },
    "tags": []
   },
   "outputs": [],
   "source": [
    "train = pd.read_csv(\"/kaggle/input/digit-recognizer/train.csv\")\n",
    "test = pd.read_csv(\"/kaggle/input/digit-recognizer/test.csv\")\n",
    "sample = pd.read_csv(\"/kaggle/input/digit-recognizer/sample_submission.csv\")"
   ]
  },
  {
   "cell_type": "code",
   "execution_count": 3,
   "metadata": {
    "execution": {
     "iopub.execute_input": "2021-03-13T11:44:14.192616Z",
     "iopub.status.busy": "2021-03-13T11:44:14.191953Z",
     "iopub.status.idle": "2021-03-13T11:44:14.207165Z",
     "shell.execute_reply": "2021-03-13T11:44:14.206288Z"
    },
    "papermill": {
     "duration": 0.025654,
     "end_time": "2021-03-13T11:44:14.207272",
     "exception": false,
     "start_time": "2021-03-13T11:44:14.181618",
     "status": "completed"
    },
    "tags": []
   },
   "outputs": [],
   "source": [
    "clear_session()"
   ]
  },
  {
   "cell_type": "code",
   "execution_count": 4,
   "metadata": {
    "execution": {
     "iopub.execute_input": "2021-03-13T11:44:14.229614Z",
     "iopub.status.busy": "2021-03-13T11:44:14.228945Z",
     "iopub.status.idle": "2021-03-13T11:44:15.128422Z",
     "shell.execute_reply": "2021-03-13T11:44:15.127597Z"
    },
    "papermill": {
     "duration": 0.913961,
     "end_time": "2021-03-13T11:44:15.128543",
     "exception": false,
     "start_time": "2021-03-13T11:44:14.214582",
     "status": "completed"
    },
    "tags": []
   },
   "outputs": [],
   "source": [
    "from sklearn.preprocessing import StandardScaler\n",
    "from sklearn.model_selection import train_test_split\n",
    "\n",
    "x_train = train[train.columns[1:]]\n",
    "y_train = train.label\n",
    "\n",
    "x_train_float = x_train.astype(np.float) / 255 - 0.5 # нормализация данных\n",
    "x_test_float = test.astype(np.float) / 255 - 0.5\n",
    "\n",
    "y_train_oh = keras.utils.to_categorical(y_train, 10) # преобразование y_train в бинарную матрицу классов\n",
    "\n",
    "x_train_float = x_train_float.values.reshape(-1, 28, 28) # подводка данных к нужной размерности\n",
    "x_test_float = x_test_float.values.reshape(-1, 28, 28)\n",
    "\n",
    "\n",
    "x_train_float,x_train_float_val,y_train_oh, y_train_oh_val = train_test_split(x_train_float, y_train_oh, random_state = 49, test_size = 0.3) "
   ]
  },
  {
   "cell_type": "markdown",
   "metadata": {
    "papermill": {
     "duration": 0.007101,
     "end_time": "2021-03-13T11:44:15.142910",
     "exception": false,
     "start_time": "2021-03-13T11:44:15.135809",
     "status": "completed"
    },
    "tags": []
   },
   "source": [
    "## Deep learning"
   ]
  },
  {
   "cell_type": "code",
   "execution_count": 5,
   "metadata": {
    "execution": {
     "iopub.execute_input": "2021-03-13T11:44:15.165990Z",
     "iopub.status.busy": "2021-03-13T11:44:15.165439Z",
     "iopub.status.idle": "2021-03-13T11:44:17.565871Z",
     "shell.execute_reply": "2021-03-13T11:44:17.565274Z"
    },
    "papermill": {
     "duration": 2.416192,
     "end_time": "2021-03-13T11:44:17.565988",
     "exception": false,
     "start_time": "2021-03-13T11:44:15.149796",
     "status": "completed"
    },
    "tags": []
   },
   "outputs": [
    {
     "name": "stdout",
     "output_type": "stream",
     "text": [
      "Model: \"sequential\"\n",
      "_________________________________________________________________\n",
      "Layer (type)                 Output Shape              Param #   \n",
      "=================================================================\n",
      "conv2d (Conv2D)              (None, 28, 28, 16)        160       \n",
      "_________________________________________________________________\n",
      "max_pooling2d (MaxPooling2D) (None, 14, 14, 16)        0         \n",
      "_________________________________________________________________\n",
      "conv2d_1 (Conv2D)            (None, 14, 14, 32)        4640      \n",
      "_________________________________________________________________\n",
      "max_pooling2d_1 (MaxPooling2 (None, 7, 7, 32)          0         \n",
      "_________________________________________________________________\n",
      "conv2d_2 (Conv2D)            (None, 7, 7, 64)          18496     \n",
      "_________________________________________________________________\n",
      "max_pooling2d_2 (MaxPooling2 (None, 3, 3, 64)          0         \n",
      "_________________________________________________________________\n",
      "flatten (Flatten)            (None, 576)               0         \n",
      "_________________________________________________________________\n",
      "dense (Dense)                (None, 64)                36928     \n",
      "_________________________________________________________________\n",
      "dense_1 (Dense)              (None, 32)                2080      \n",
      "_________________________________________________________________\n",
      "dense_2 (Dense)              (None, 10)                330       \n",
      "=================================================================\n",
      "Total params: 62,634\n",
      "Trainable params: 62,634\n",
      "Non-trainable params: 0\n",
      "_________________________________________________________________\n"
     ]
    }
   ],
   "source": [
    "# Архитектура сети\n",
    "model = Sequential()\n",
    "model.add(L.Conv2D(16, kernel_size=3, strides=1, padding='same', input_shape=(28, 28, 1)))\n",
    "model.add(L.MaxPool2D())\n",
    "model.add(L.Conv2D(32, kernel_size=3, strides=1, padding='same'))\n",
    "model.add(L.MaxPool2D())\n",
    "model.add(L.Conv2D(64, kernel_size=3, strides=1, padding='same'))\n",
    "model.add(L.MaxPool2D())\n",
    "model.add(L.Flatten())\n",
    "model.add(Dense(64, activation='relu', input_shape=(x_train.shape[1],))) # первый скрытый слой\n",
    "model.add(Dense(32, activation='relu',)) # второй скрытый слой\n",
    "model.add(Dense(10, activation='softmax',)) # выходной слой\n",
    "model.summary()"
   ]
  },
  {
   "cell_type": "code",
   "execution_count": 6,
   "metadata": {
    "execution": {
     "iopub.execute_input": "2021-03-13T11:44:17.592534Z",
     "iopub.status.busy": "2021-03-13T11:44:17.591460Z",
     "iopub.status.idle": "2021-03-13T11:44:17.597329Z",
     "shell.execute_reply": "2021-03-13T11:44:17.597710Z"
    },
    "papermill": {
     "duration": 0.02349,
     "end_time": "2021-03-13T11:44:17.597817",
     "exception": false,
     "start_time": "2021-03-13T11:44:17.574327",
     "status": "completed"
    },
    "tags": []
   },
   "outputs": [],
   "source": [
    "model.compile(\n",
    "    loss='categorical_crossentropy',  # минимизируем кросс-энтропию\n",
    "    optimizer='adam',  # так будет быстрее\n",
    "    metrics=['accuracy']  # выводим процент правильных ответов\n",
    "    \n",
    ")"
   ]
  },
  {
   "cell_type": "code",
   "execution_count": 7,
   "metadata": {
    "execution": {
     "iopub.execute_input": "2021-03-13T11:44:17.617692Z",
     "iopub.status.busy": "2021-03-13T11:44:17.617160Z",
     "iopub.status.idle": "2021-03-13T11:49:34.221412Z",
     "shell.execute_reply": "2021-03-13T11:49:34.221803Z"
    },
    "papermill": {
     "duration": 316.616511,
     "end_time": "2021-03-13T11:49:34.221946",
     "exception": false,
     "start_time": "2021-03-13T11:44:17.605435",
     "status": "completed"
    },
    "tags": []
   },
   "outputs": [
    {
     "name": "stdout",
     "output_type": "stream",
     "text": [
      "Epoch 1/90\n",
      "919/919 [==============================] - 3s 4ms/step - loss: 0.2654 - accuracy: 0.9161 - val_loss: 0.0952 - val_accuracy: 0.9702\n",
      "Epoch 2/90\n",
      "919/919 [==============================] - 3s 4ms/step - loss: 0.0727 - accuracy: 0.9775 - val_loss: 0.0673 - val_accuracy: 0.9790\n",
      "Epoch 3/90\n",
      "919/919 [==============================] - 4s 4ms/step - loss: 0.0497 - accuracy: 0.9844 - val_loss: 0.0539 - val_accuracy: 0.9840\n",
      "Epoch 4/90\n",
      "919/919 [==============================] - 3s 4ms/step - loss: 0.0384 - accuracy: 0.9871 - val_loss: 0.0502 - val_accuracy: 0.9859\n",
      "Epoch 5/90\n",
      "919/919 [==============================] - 3s 4ms/step - loss: 0.0330 - accuracy: 0.9893 - val_loss: 0.0574 - val_accuracy: 0.9826\n",
      "Epoch 6/90\n",
      "919/919 [==============================] - 4s 4ms/step - loss: 0.0248 - accuracy: 0.9916 - val_loss: 0.0583 - val_accuracy: 0.9832\n",
      "Epoch 7/90\n",
      "919/919 [==============================] - 3s 4ms/step - loss: 0.0220 - accuracy: 0.9929 - val_loss: 0.0479 - val_accuracy: 0.9870\n",
      "Epoch 8/90\n",
      "919/919 [==============================] - 3s 4ms/step - loss: 0.0213 - accuracy: 0.9929 - val_loss: 0.0541 - val_accuracy: 0.9855\n",
      "Epoch 9/90\n",
      "919/919 [==============================] - 3s 4ms/step - loss: 0.0147 - accuracy: 0.9951 - val_loss: 0.0514 - val_accuracy: 0.9876\n",
      "Epoch 10/90\n",
      "919/919 [==============================] - 4s 4ms/step - loss: 0.0144 - accuracy: 0.9948 - val_loss: 0.0861 - val_accuracy: 0.9834\n",
      "Epoch 11/90\n",
      "919/919 [==============================] - 3s 4ms/step - loss: 0.0167 - accuracy: 0.9944 - val_loss: 0.0582 - val_accuracy: 0.9868\n",
      "Epoch 12/90\n",
      "919/919 [==============================] - 3s 4ms/step - loss: 0.0139 - accuracy: 0.9952 - val_loss: 0.0583 - val_accuracy: 0.9870\n",
      "Epoch 13/90\n",
      "919/919 [==============================] - 4s 4ms/step - loss: 0.0141 - accuracy: 0.9953 - val_loss: 0.0506 - val_accuracy: 0.9886\n",
      "Epoch 14/90\n",
      "919/919 [==============================] - 3s 4ms/step - loss: 0.0110 - accuracy: 0.9966 - val_loss: 0.0776 - val_accuracy: 0.9847\n",
      "Epoch 15/90\n",
      "919/919 [==============================] - 3s 4ms/step - loss: 0.0129 - accuracy: 0.9959 - val_loss: 0.0650 - val_accuracy: 0.9863\n",
      "Epoch 16/90\n",
      "919/919 [==============================] - 4s 4ms/step - loss: 0.0075 - accuracy: 0.9974 - val_loss: 0.0924 - val_accuracy: 0.9806\n",
      "Epoch 17/90\n",
      "919/919 [==============================] - 3s 4ms/step - loss: 0.0128 - accuracy: 0.9961 - val_loss: 0.1064 - val_accuracy: 0.9798\n",
      "Epoch 18/90\n",
      "919/919 [==============================] - 3s 4ms/step - loss: 0.0082 - accuracy: 0.9973 - val_loss: 0.0563 - val_accuracy: 0.9890\n",
      "Epoch 19/90\n",
      "919/919 [==============================] - 4s 4ms/step - loss: 0.0076 - accuracy: 0.9978 - val_loss: 0.0720 - val_accuracy: 0.9870\n",
      "Epoch 20/90\n",
      "919/919 [==============================] - 3s 4ms/step - loss: 0.0142 - accuracy: 0.9962 - val_loss: 0.0666 - val_accuracy: 0.9878\n",
      "Epoch 21/90\n",
      "919/919 [==============================] - 3s 4ms/step - loss: 0.0078 - accuracy: 0.9974 - val_loss: 0.0709 - val_accuracy: 0.9877\n",
      "Epoch 22/90\n",
      "919/919 [==============================] - 4s 4ms/step - loss: 0.0063 - accuracy: 0.9980 - val_loss: 0.0920 - val_accuracy: 0.9842\n",
      "Epoch 23/90\n",
      "919/919 [==============================] - 3s 4ms/step - loss: 0.0096 - accuracy: 0.9970 - val_loss: 0.0854 - val_accuracy: 0.9862\n",
      "Epoch 24/90\n",
      "919/919 [==============================] - 3s 4ms/step - loss: 0.0094 - accuracy: 0.9973 - val_loss: 0.0687 - val_accuracy: 0.9879\n",
      "Epoch 25/90\n",
      "919/919 [==============================] - 4s 4ms/step - loss: 0.0062 - accuracy: 0.9982 - val_loss: 0.1000 - val_accuracy: 0.9852\n",
      "Epoch 26/90\n",
      "919/919 [==============================] - 3s 4ms/step - loss: 0.0131 - accuracy: 0.9962 - val_loss: 0.0799 - val_accuracy: 0.9890\n",
      "Epoch 27/90\n",
      "919/919 [==============================] - 3s 4ms/step - loss: 0.0063 - accuracy: 0.9982 - val_loss: 0.0879 - val_accuracy: 0.9879\n",
      "Epoch 28/90\n",
      "919/919 [==============================] - 3s 4ms/step - loss: 0.0066 - accuracy: 0.9984 - val_loss: 0.1154 - val_accuracy: 0.9832\n",
      "Epoch 29/90\n",
      "919/919 [==============================] - 3s 4ms/step - loss: 0.0081 - accuracy: 0.9977 - val_loss: 0.0989 - val_accuracy: 0.9861\n",
      "Epoch 30/90\n",
      "919/919 [==============================] - 3s 4ms/step - loss: 0.0048 - accuracy: 0.9987 - val_loss: 0.0971 - val_accuracy: 0.9852\n",
      "Epoch 31/90\n",
      "919/919 [==============================] - 4s 4ms/step - loss: 0.0080 - accuracy: 0.9978 - val_loss: 0.1032 - val_accuracy: 0.9863\n",
      "Epoch 32/90\n",
      "919/919 [==============================] - 3s 4ms/step - loss: 0.0092 - accuracy: 0.9975 - val_loss: 0.1025 - val_accuracy: 0.9864\n",
      "Epoch 33/90\n",
      "919/919 [==============================] - 3s 4ms/step - loss: 0.0065 - accuracy: 0.9981 - val_loss: 0.0854 - val_accuracy: 0.9883\n",
      "Epoch 34/90\n",
      "919/919 [==============================] - 3s 4ms/step - loss: 0.0037 - accuracy: 0.9988 - val_loss: 0.0936 - val_accuracy: 0.9863\n",
      "Epoch 35/90\n",
      "919/919 [==============================] - 4s 4ms/step - loss: 0.0125 - accuracy: 0.9972 - val_loss: 0.0912 - val_accuracy: 0.9881\n",
      "Epoch 36/90\n",
      "919/919 [==============================] - 3s 4ms/step - loss: 0.0025 - accuracy: 0.9992 - val_loss: 0.0822 - val_accuracy: 0.9896\n",
      "Epoch 37/90\n",
      "919/919 [==============================] - 3s 4ms/step - loss: 0.0095 - accuracy: 0.9975 - val_loss: 0.1278 - val_accuracy: 0.9839\n",
      "Epoch 38/90\n",
      "919/919 [==============================] - 4s 4ms/step - loss: 0.0048 - accuracy: 0.9985 - val_loss: 0.1351 - val_accuracy: 0.9860\n",
      "Epoch 39/90\n",
      "919/919 [==============================] - 3s 4ms/step - loss: 0.0096 - accuracy: 0.9978 - val_loss: 0.1021 - val_accuracy: 0.9873\n",
      "Epoch 40/90\n",
      "919/919 [==============================] - 4s 4ms/step - loss: 0.0049 - accuracy: 0.9987 - val_loss: 0.0844 - val_accuracy: 0.9884\n",
      "Epoch 41/90\n",
      "919/919 [==============================] - 4s 4ms/step - loss: 0.0058 - accuracy: 0.9982 - val_loss: 0.0918 - val_accuracy: 0.9894\n",
      "Epoch 42/90\n",
      "919/919 [==============================] - 3s 4ms/step - loss: 0.0125 - accuracy: 0.9972 - val_loss: 0.1291 - val_accuracy: 0.9854\n",
      "Epoch 43/90\n",
      "919/919 [==============================] - 3s 4ms/step - loss: 0.0040 - accuracy: 0.9988 - val_loss: 0.0946 - val_accuracy: 0.9896\n",
      "Epoch 44/90\n",
      "919/919 [==============================] - 4s 4ms/step - loss: 0.0065 - accuracy: 0.9985 - val_loss: 0.1170 - val_accuracy: 0.9873\n",
      "Epoch 45/90\n",
      "919/919 [==============================] - 3s 4ms/step - loss: 0.0097 - accuracy: 0.9977 - val_loss: 0.1171 - val_accuracy: 0.9875\n",
      "Epoch 46/90\n",
      "919/919 [==============================] - 3s 4ms/step - loss: 0.0089 - accuracy: 0.9978 - val_loss: 0.0906 - val_accuracy: 0.9892\n",
      "Epoch 47/90\n",
      "919/919 [==============================] - 3s 4ms/step - loss: 0.0027 - accuracy: 0.9991 - val_loss: 0.0896 - val_accuracy: 0.9887\n",
      "Epoch 48/90\n",
      "919/919 [==============================] - 4s 4ms/step - loss: 0.0074 - accuracy: 0.9985 - val_loss: 0.1174 - val_accuracy: 0.9867\n",
      "Epoch 49/90\n",
      "919/919 [==============================] - 4s 4ms/step - loss: 0.0083 - accuracy: 0.9980 - val_loss: 0.1333 - val_accuracy: 0.9840\n",
      "Epoch 50/90\n",
      "919/919 [==============================] - 4s 4ms/step - loss: 0.0070 - accuracy: 0.9983 - val_loss: 0.1457 - val_accuracy: 0.9795\n",
      "Epoch 51/90\n",
      "919/919 [==============================] - 4s 4ms/step - loss: 0.0065 - accuracy: 0.9987 - val_loss: 0.1118 - val_accuracy: 0.9865\n",
      "Epoch 52/90\n",
      "919/919 [==============================] - 3s 4ms/step - loss: 0.0098 - accuracy: 0.9979 - val_loss: 0.1144 - val_accuracy: 0.9884\n",
      "Epoch 53/90\n",
      "919/919 [==============================] - 4s 4ms/step - loss: 0.0098 - accuracy: 0.9978 - val_loss: 0.1100 - val_accuracy: 0.9867\n",
      "Epoch 54/90\n",
      "919/919 [==============================] - 4s 4ms/step - loss: 0.0015 - accuracy: 0.9994 - val_loss: 0.1015 - val_accuracy: 0.9888\n",
      "Epoch 55/90\n",
      "919/919 [==============================] - 3s 4ms/step - loss: 0.0082 - accuracy: 0.9983 - val_loss: 0.1095 - val_accuracy: 0.9861\n",
      "Epoch 56/90\n",
      "919/919 [==============================] - 3s 4ms/step - loss: 0.0077 - accuracy: 0.9983 - val_loss: 0.1226 - val_accuracy: 0.9852\n",
      "Epoch 57/90\n",
      "919/919 [==============================] - 4s 4ms/step - loss: 0.0052 - accuracy: 0.9986 - val_loss: 0.1005 - val_accuracy: 0.9878\n",
      "Epoch 58/90\n",
      "919/919 [==============================] - 3s 4ms/step - loss: 0.0055 - accuracy: 0.9990 - val_loss: 0.1300 - val_accuracy: 0.9866\n",
      "Epoch 59/90\n",
      "919/919 [==============================] - 4s 4ms/step - loss: 0.0071 - accuracy: 0.9985 - val_loss: 0.1212 - val_accuracy: 0.9868\n",
      "Epoch 60/90\n",
      "919/919 [==============================] - 4s 4ms/step - loss: 0.0060 - accuracy: 0.9989 - val_loss: 0.1959 - val_accuracy: 0.9797\n",
      "Epoch 61/90\n",
      "919/919 [==============================] - 3s 4ms/step - loss: 0.0078 - accuracy: 0.9981 - val_loss: 0.1288 - val_accuracy: 0.9862\n",
      "Epoch 62/90\n",
      "919/919 [==============================] - 4s 4ms/step - loss: 0.0054 - accuracy: 0.9984 - val_loss: 0.1291 - val_accuracy: 0.9876\n",
      "Epoch 63/90\n",
      "919/919 [==============================] - 4s 4ms/step - loss: 0.0064 - accuracy: 0.9985 - val_loss: 0.1333 - val_accuracy: 0.9883\n",
      "Epoch 64/90\n",
      "919/919 [==============================] - 3s 4ms/step - loss: 0.0028 - accuracy: 0.9993 - val_loss: 0.1465 - val_accuracy: 0.9863\n",
      "Epoch 65/90\n",
      "919/919 [==============================] - 3s 4ms/step - loss: 0.0136 - accuracy: 0.9977 - val_loss: 0.1433 - val_accuracy: 0.9856\n",
      "Epoch 66/90\n",
      "919/919 [==============================] - 3s 4ms/step - loss: 0.0057 - accuracy: 0.9989 - val_loss: 0.1528 - val_accuracy: 0.9851\n",
      "Epoch 67/90\n",
      "919/919 [==============================] - 4s 4ms/step - loss: 0.0060 - accuracy: 0.9986 - val_loss: 0.1173 - val_accuracy: 0.9890\n",
      "Epoch 68/90\n",
      "919/919 [==============================] - 4s 4ms/step - loss: 0.0081 - accuracy: 0.9983 - val_loss: 0.1285 - val_accuracy: 0.9871\n",
      "Epoch 69/90\n",
      "919/919 [==============================] - 3s 4ms/step - loss: 0.0035 - accuracy: 0.9992 - val_loss: 0.1324 - val_accuracy: 0.9878\n",
      "Epoch 70/90\n",
      "919/919 [==============================] - 4s 4ms/step - loss: 0.0076 - accuracy: 0.9984 - val_loss: 0.1554 - val_accuracy: 0.9885\n",
      "Epoch 71/90\n",
      "919/919 [==============================] - 4s 4ms/step - loss: 0.0050 - accuracy: 0.9988 - val_loss: 0.1468 - val_accuracy: 0.9851\n",
      "Epoch 72/90\n",
      "919/919 [==============================] - 3s 4ms/step - loss: 0.0052 - accuracy: 0.9990 - val_loss: 0.1265 - val_accuracy: 0.9876\n",
      "Epoch 73/90\n",
      "919/919 [==============================] - 3s 4ms/step - loss: 0.0056 - accuracy: 0.9986 - val_loss: 0.1505 - val_accuracy: 0.9844\n",
      "Epoch 74/90\n",
      "919/919 [==============================] - 3s 4ms/step - loss: 0.0036 - accuracy: 0.9989 - val_loss: 0.1319 - val_accuracy: 0.9884\n",
      "Epoch 75/90\n",
      "919/919 [==============================] - 3s 4ms/step - loss: 0.0044 - accuracy: 0.9990 - val_loss: 0.1283 - val_accuracy: 0.9896\n",
      "Epoch 76/90\n",
      "919/919 [==============================] - 3s 4ms/step - loss: 0.0082 - accuracy: 0.9984 - val_loss: 0.1618 - val_accuracy: 0.9867\n",
      "Epoch 77/90\n",
      "919/919 [==============================] - 4s 4ms/step - loss: 0.0091 - accuracy: 0.9986 - val_loss: 0.2384 - val_accuracy: 0.9812\n",
      "Epoch 78/90\n",
      "919/919 [==============================] - 3s 4ms/step - loss: 0.0068 - accuracy: 0.9985 - val_loss: 0.1498 - val_accuracy: 0.9868\n",
      "Epoch 79/90\n",
      "919/919 [==============================] - 4s 4ms/step - loss: 0.0046 - accuracy: 0.9990 - val_loss: 0.1486 - val_accuracy: 0.9878\n",
      "Epoch 80/90\n",
      "919/919 [==============================] - 3s 4ms/step - loss: 0.0050 - accuracy: 0.9990 - val_loss: 0.1637 - val_accuracy: 0.9867\n",
      "Epoch 81/90\n",
      "919/919 [==============================] - 4s 4ms/step - loss: 0.0096 - accuracy: 0.9985 - val_loss: 0.1809 - val_accuracy: 0.9865\n",
      "Epoch 82/90\n",
      "919/919 [==============================] - 4s 4ms/step - loss: 0.0051 - accuracy: 0.9988 - val_loss: 0.1607 - val_accuracy: 0.9867\n",
      "Epoch 83/90\n",
      "919/919 [==============================] - 3s 4ms/step - loss: 0.0040 - accuracy: 0.9994 - val_loss: 0.1612 - val_accuracy: 0.9846\n",
      "Epoch 84/90\n",
      "919/919 [==============================] - 3s 4ms/step - loss: 0.0085 - accuracy: 0.9986 - val_loss: 0.1956 - val_accuracy: 0.9841\n",
      "Epoch 85/90\n",
      "919/919 [==============================] - 3s 4ms/step - loss: 0.0108 - accuracy: 0.9981 - val_loss: 0.1489 - val_accuracy: 0.9868\n",
      "Epoch 86/90\n",
      "919/919 [==============================] - 4s 4ms/step - loss: 0.0032 - accuracy: 0.9992 - val_loss: 0.1397 - val_accuracy: 0.9895\n",
      "Epoch 87/90\n",
      "919/919 [==============================] - 3s 4ms/step - loss: 0.0016 - accuracy: 0.9997 - val_loss: 0.1444 - val_accuracy: 0.9882\n",
      "Epoch 88/90\n",
      "919/919 [==============================] - 3s 4ms/step - loss: 0.0051 - accuracy: 0.9991 - val_loss: 0.1516 - val_accuracy: 0.9887\n",
      "Epoch 89/90\n",
      "919/919 [==============================] - 4s 4ms/step - loss: 0.0122 - accuracy: 0.9981 - val_loss: 0.1759 - val_accuracy: 0.9881\n",
      "Epoch 90/90\n",
      "919/919 [==============================] - 4s 5ms/step - loss: 0.0075 - accuracy: 0.9990 - val_loss: 0.2145 - val_accuracy: 0.9831\n"
     ]
    }
   ],
   "source": [
    "history = model.fit(\n",
    "                    x_train_float[:, :, :, np.newaxis], \n",
    "                    y_train_oh,\n",
    "                    batch_size=32,  # 32 объекта для подсчета градиента на каждом шаге\n",
    "                    epochs=90,  # 90 проходов по датасету\n",
    "                    validation_data = (x_train_float_val[:, :, :, np.newaxis], y_train_oh_val)\n",
    "                    )"
   ]
  },
  {
   "cell_type": "markdown",
   "metadata": {
    "papermill": {
     "duration": 1.354864,
     "end_time": "2021-03-13T11:49:36.922857",
     "exception": false,
     "start_time": "2021-03-13T11:49:35.567993",
     "status": "completed"
    },
    "tags": []
   },
   "source": [
    "## Output"
   ]
  },
  {
   "cell_type": "code",
   "execution_count": 8,
   "metadata": {
    "execution": {
     "iopub.execute_input": "2021-03-13T11:49:39.897664Z",
     "iopub.status.busy": "2021-03-13T11:49:39.894590Z",
     "iopub.status.idle": "2021-03-13T11:49:41.111941Z",
     "shell.execute_reply": "2021-03-13T11:49:41.111266Z"
    },
    "papermill": {
     "duration": 2.680304,
     "end_time": "2021-03-13T11:49:41.112047",
     "exception": false,
     "start_time": "2021-03-13T11:49:38.431743",
     "status": "completed"
    },
    "tags": []
   },
   "outputs": [],
   "source": [
    "predictions = model.predict_classes(x_test_float[:, :, :, np.newaxis])\n",
    "\n",
    "output = pd.DataFrame({'ImageId': sample.ImageId, 'Label': predictions})\n",
    "output.to_csv('my_submission.csv', index=False)"
   ]
  }
 ],
 "metadata": {
  "kernelspec": {
   "display_name": "Python 3",
   "language": "python",
   "name": "python3"
  },
  "language_info": {
   "codemirror_mode": {
    "name": "ipython",
    "version": 3
   },
   "file_extension": ".py",
   "mimetype": "text/x-python",
   "name": "python",
   "nbconvert_exporter": "python",
   "pygments_lexer": "ipython3",
   "version": "3.7.6"
  },
  "papermill": {
   "duration": 343.979453,
   "end_time": "2021-03-13T11:49:43.496768",
   "environment_variables": {},
   "exception": null,
   "input_path": "__notebook__.ipynb",
   "output_path": "__notebook__.ipynb",
   "parameters": {},
   "start_time": "2021-03-13T11:43:59.517315",
   "version": "2.1.0"
  }
 },
 "nbformat": 4,
 "nbformat_minor": 4
}
