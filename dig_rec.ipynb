{
 "cells": [
  {
   "cell_type": "code",
   "execution_count": 1,
   "metadata": {
    "_cell_guid": "b1076dfc-b9ad-4769-8c92-a6c4dae69d19",
    "_uuid": "8f2839f25d086af736a60e9eeb907d3b93b6e0e5",
    "execution": {
     "iopub.execute_input": "2021-03-13T19:18:52.788976Z",
     "iopub.status.busy": "2021-03-13T19:18:52.788299Z",
     "iopub.status.idle": "2021-03-13T19:18:58.340952Z",
     "shell.execute_reply": "2021-03-13T19:18:58.341898Z"
    },
    "papermill": {
     "duration": 5.568616,
     "end_time": "2021-03-13T19:18:58.342081",
     "exception": false,
     "start_time": "2021-03-13T19:18:52.773465",
     "status": "completed"
    },
    "tags": []
   },
   "outputs": [
    {
     "name": "stdout",
     "output_type": "stream",
     "text": [
      "/kaggle/input/digit-recognizer/sample_submission.csv\n",
      "/kaggle/input/digit-recognizer/train.csv\n",
      "/kaggle/input/digit-recognizer/test.csv\n"
     ]
    }
   ],
   "source": [
    "import tensorflow as tf\n",
    "from tensorflow import keras\n",
    "from tensorflow.keras.layers import Dense\n",
    "from tensorflow.keras.models import Sequential\n",
    "from tensorflow.keras.backend import clear_session\n",
    "import tensorflow.keras.layers as L\n",
    "import numpy as np\n",
    "import pandas as pd\n",
    "import sklearn\n",
    "from sklearn.metrics import accuracy_score\n",
    "import matplotlib.pyplot as plt\n",
    "\n",
    "import os\n",
    "for dirname, _, filenames in os.walk('/kaggle/input'):\n",
    "    for filename in filenames:\n",
    "        print(os.path.join(dirname, filename))"
   ]
  },
  {
   "cell_type": "markdown",
   "metadata": {
    "papermill": {
     "duration": 0.010052,
     "end_time": "2021-03-13T19:18:58.363786",
     "exception": false,
     "start_time": "2021-03-13T19:18:58.353734",
     "status": "completed"
    },
    "tags": []
   },
   "source": [
    "## Data preprocessing"
   ]
  },
  {
   "cell_type": "code",
   "execution_count": 2,
   "metadata": {
    "execution": {
     "iopub.execute_input": "2021-03-13T19:18:58.408242Z",
     "iopub.status.busy": "2021-03-13T19:18:58.407453Z",
     "iopub.status.idle": "2021-03-13T19:19:03.766792Z",
     "shell.execute_reply": "2021-03-13T19:19:03.765954Z"
    },
    "papermill": {
     "duration": 5.390385,
     "end_time": "2021-03-13T19:19:03.766906",
     "exception": false,
     "start_time": "2021-03-13T19:18:58.376521",
     "status": "completed"
    },
    "tags": []
   },
   "outputs": [],
   "source": [
    "train = pd.read_csv(\"/kaggle/input/digit-recognizer/train.csv\")\n",
    "test = pd.read_csv(\"/kaggle/input/digit-recognizer/test.csv\")\n",
    "sample = pd.read_csv(\"/kaggle/input/digit-recognizer/sample_submission.csv\")"
   ]
  },
  {
   "cell_type": "code",
   "execution_count": 3,
   "metadata": {
    "execution": {
     "iopub.execute_input": "2021-03-13T19:19:03.786446Z",
     "iopub.status.busy": "2021-03-13T19:19:03.785884Z",
     "iopub.status.idle": "2021-03-13T19:19:03.802574Z",
     "shell.execute_reply": "2021-03-13T19:19:03.801618Z"
    },
    "papermill": {
     "duration": 0.027958,
     "end_time": "2021-03-13T19:19:03.802676",
     "exception": false,
     "start_time": "2021-03-13T19:19:03.774718",
     "status": "completed"
    },
    "tags": []
   },
   "outputs": [],
   "source": [
    "clear_session()"
   ]
  },
  {
   "cell_type": "code",
   "execution_count": 4,
   "metadata": {
    "execution": {
     "iopub.execute_input": "2021-03-13T19:19:03.824658Z",
     "iopub.status.busy": "2021-03-13T19:19:03.824040Z",
     "iopub.status.idle": "2021-03-13T19:19:04.726074Z",
     "shell.execute_reply": "2021-03-13T19:19:04.725398Z"
    },
    "papermill": {
     "duration": 0.916127,
     "end_time": "2021-03-13T19:19:04.726212",
     "exception": false,
     "start_time": "2021-03-13T19:19:03.810085",
     "status": "completed"
    },
    "tags": []
   },
   "outputs": [],
   "source": [
    "from sklearn.preprocessing import StandardScaler\n",
    "from sklearn.model_selection import train_test_split\n",
    "\n",
    "x_train = train[train.columns[1:]]\n",
    "y_train = train.label\n",
    "\n",
    "x_train_float = x_train.astype(np.float) / 255 - 0.5 # нормализация данных\n",
    "x_test_float = test.astype(np.float) / 255 - 0.5\n",
    "\n",
    "y_train_oh = keras.utils.to_categorical(y_train, 10) # преобразование y_train в бинарную матрицу классов\n",
    "\n",
    "x_train_float = x_train_float.values.reshape(-1, 28, 28) # подводка данных к нужной размерности\n",
    "x_test_float = x_test_float.values.reshape(-1, 28, 28)\n",
    "\n",
    "\n",
    "x_train_float,x_train_float_val,y_train_oh, y_train_oh_val = train_test_split(x_train_float, y_train_oh, random_state = 49, test_size = 0.3) "
   ]
  },
  {
   "cell_type": "markdown",
   "metadata": {
    "papermill": {
     "duration": 0.007323,
     "end_time": "2021-03-13T19:19:04.741201",
     "exception": false,
     "start_time": "2021-03-13T19:19:04.733878",
     "status": "completed"
    },
    "tags": []
   },
   "source": [
    "## Deep learning"
   ]
  },
  {
   "cell_type": "code",
   "execution_count": 5,
   "metadata": {
    "execution": {
     "iopub.execute_input": "2021-03-13T19:19:04.765261Z",
     "iopub.status.busy": "2021-03-13T19:19:04.764673Z",
     "iopub.status.idle": "2021-03-13T19:19:07.256849Z",
     "shell.execute_reply": "2021-03-13T19:19:07.257883Z"
    },
    "papermill": {
     "duration": 2.509175,
     "end_time": "2021-03-13T19:19:07.258022",
     "exception": false,
     "start_time": "2021-03-13T19:19:04.748847",
     "status": "completed"
    },
    "tags": []
   },
   "outputs": [
    {
     "name": "stdout",
     "output_type": "stream",
     "text": [
      "Model: \"sequential\"\n",
      "_________________________________________________________________\n",
      "Layer (type)                 Output Shape              Param #   \n",
      "=================================================================\n",
      "conv2d (Conv2D)              (None, 28, 28, 16)        160       \n",
      "_________________________________________________________________\n",
      "max_pooling2d (MaxPooling2D) (None, 14, 14, 16)        0         \n",
      "_________________________________________________________________\n",
      "conv2d_1 (Conv2D)            (None, 14, 14, 32)        4640      \n",
      "_________________________________________________________________\n",
      "max_pooling2d_1 (MaxPooling2 (None, 7, 7, 32)          0         \n",
      "_________________________________________________________________\n",
      "conv2d_2 (Conv2D)            (None, 7, 7, 64)          18496     \n",
      "_________________________________________________________________\n",
      "max_pooling2d_2 (MaxPooling2 (None, 3, 3, 64)          0         \n",
      "_________________________________________________________________\n",
      "flatten (Flatten)            (None, 576)               0         \n",
      "_________________________________________________________________\n",
      "dense (Dense)                (None, 64)                36928     \n",
      "_________________________________________________________________\n",
      "dense_1 (Dense)              (None, 32)                2080      \n",
      "_________________________________________________________________\n",
      "dense_2 (Dense)              (None, 10)                330       \n",
      "=================================================================\n",
      "Total params: 62,634\n",
      "Trainable params: 62,634\n",
      "Non-trainable params: 0\n",
      "_________________________________________________________________\n"
     ]
    }
   ],
   "source": [
    "# Архитектура сети\n",
    "model = Sequential()\n",
    "model.add(L.Conv2D(16, kernel_size=3, strides=1, padding='same', input_shape=(28, 28, 1)))\n",
    "model.add(L.MaxPool2D())\n",
    "model.add(L.Conv2D(32, kernel_size=3, strides=1, padding='same'))\n",
    "model.add(L.MaxPool2D())\n",
    "model.add(L.Conv2D(64, kernel_size=3, strides=1, padding='same'))\n",
    "model.add(L.MaxPool2D())\n",
    "model.add(L.Flatten())\n",
    "model.add(Dense(64, activation='relu', input_shape=(x_train.shape[1],))) # первый скрытый слой\n",
    "model.add(Dense(32, activation='relu',)) # второй скрытый слой\n",
    "model.add(Dense(10, activation='softmax',)) # выходной слой\n",
    "model.summary()"
   ]
  },
  {
   "cell_type": "code",
   "execution_count": 6,
   "metadata": {
    "execution": {
     "iopub.execute_input": "2021-03-13T19:19:07.284564Z",
     "iopub.status.busy": "2021-03-13T19:19:07.283608Z",
     "iopub.status.idle": "2021-03-13T19:19:07.289199Z",
     "shell.execute_reply": "2021-03-13T19:19:07.289593Z"
    },
    "papermill": {
     "duration": 0.023611,
     "end_time": "2021-03-13T19:19:07.289704",
     "exception": false,
     "start_time": "2021-03-13T19:19:07.266093",
     "status": "completed"
    },
    "tags": []
   },
   "outputs": [],
   "source": [
    "model.compile(\n",
    "    loss='categorical_crossentropy',  # минимизируем кросс-энтропию\n",
    "    optimizer='adam',  # так будет быстрее\n",
    "    metrics=['accuracy']  # выводим процент правильных ответов\n",
    "    \n",
    ")"
   ]
  },
  {
   "cell_type": "code",
   "execution_count": 7,
   "metadata": {
    "execution": {
     "iopub.execute_input": "2021-03-13T19:19:07.310109Z",
     "iopub.status.busy": "2021-03-13T19:19:07.309454Z",
     "iopub.status.idle": "2021-03-13T19:24:19.555410Z",
     "shell.execute_reply": "2021-03-13T19:24:19.555870Z"
    },
    "papermill": {
     "duration": 312.258455,
     "end_time": "2021-03-13T19:24:19.556013",
     "exception": false,
     "start_time": "2021-03-13T19:19:07.297558",
     "status": "completed"
    },
    "tags": []
   },
   "outputs": [
    {
     "name": "stdout",
     "output_type": "stream",
     "text": [
      "Epoch 1/90\n",
      "919/919 [==============================] - 4s 4ms/step - loss: 0.2756 - accuracy: 0.9114 - val_loss: 0.0911 - val_accuracy: 0.9719\n",
      "Epoch 2/90\n",
      "919/919 [==============================] - 3s 4ms/step - loss: 0.0798 - accuracy: 0.9751 - val_loss: 0.0658 - val_accuracy: 0.9801\n",
      "Epoch 3/90\n",
      "919/919 [==============================] - 4s 4ms/step - loss: 0.0527 - accuracy: 0.9831 - val_loss: 0.0535 - val_accuracy: 0.9833\n",
      "Epoch 4/90\n",
      "919/919 [==============================] - 3s 4ms/step - loss: 0.0408 - accuracy: 0.9877 - val_loss: 0.0543 - val_accuracy: 0.9835\n",
      "Epoch 5/90\n",
      "919/919 [==============================] - 3s 4ms/step - loss: 0.0336 - accuracy: 0.9889 - val_loss: 0.0542 - val_accuracy: 0.9838\n",
      "Epoch 6/90\n",
      "919/919 [==============================] - 3s 4ms/step - loss: 0.0289 - accuracy: 0.9906 - val_loss: 0.0525 - val_accuracy: 0.9853\n",
      "Epoch 7/90\n",
      "919/919 [==============================] - 3s 4ms/step - loss: 0.0211 - accuracy: 0.9930 - val_loss: 0.0561 - val_accuracy: 0.9853\n",
      "Epoch 8/90\n",
      "919/919 [==============================] - 3s 4ms/step - loss: 0.0210 - accuracy: 0.9928 - val_loss: 0.0532 - val_accuracy: 0.9857\n",
      "Epoch 9/90\n",
      "919/919 [==============================] - 3s 4ms/step - loss: 0.0192 - accuracy: 0.9936 - val_loss: 0.0428 - val_accuracy: 0.9887\n",
      "Epoch 10/90\n",
      "919/919 [==============================] - 4s 4ms/step - loss: 0.0163 - accuracy: 0.9941 - val_loss: 0.0583 - val_accuracy: 0.9859\n",
      "Epoch 11/90\n",
      "919/919 [==============================] - 3s 4ms/step - loss: 0.0122 - accuracy: 0.9961 - val_loss: 0.0831 - val_accuracy: 0.9801\n",
      "Epoch 12/90\n",
      "919/919 [==============================] - 3s 4ms/step - loss: 0.0124 - accuracy: 0.9961 - val_loss: 0.0684 - val_accuracy: 0.9853\n",
      "Epoch 13/90\n",
      "919/919 [==============================] - 3s 4ms/step - loss: 0.0156 - accuracy: 0.9948 - val_loss: 0.0830 - val_accuracy: 0.9825\n",
      "Epoch 14/90\n",
      "919/919 [==============================] - 3s 4ms/step - loss: 0.0107 - accuracy: 0.9965 - val_loss: 0.0739 - val_accuracy: 0.9854\n",
      "Epoch 15/90\n",
      "919/919 [==============================] - 3s 4ms/step - loss: 0.0093 - accuracy: 0.9971 - val_loss: 0.0674 - val_accuracy: 0.9870\n",
      "Epoch 16/90\n",
      "919/919 [==============================] - 4s 4ms/step - loss: 0.0147 - accuracy: 0.9952 - val_loss: 0.0615 - val_accuracy: 0.9885\n",
      "Epoch 17/90\n",
      "919/919 [==============================] - 4s 4ms/step - loss: 0.0095 - accuracy: 0.9971 - val_loss: 0.0655 - val_accuracy: 0.9862\n",
      "Epoch 18/90\n",
      "919/919 [==============================] - 3s 4ms/step - loss: 0.0083 - accuracy: 0.9974 - val_loss: 0.0720 - val_accuracy: 0.9862\n",
      "Epoch 19/90\n",
      "919/919 [==============================] - 4s 4ms/step - loss: 0.0112 - accuracy: 0.9968 - val_loss: 0.0584 - val_accuracy: 0.9884\n",
      "Epoch 20/90\n",
      "919/919 [==============================] - 3s 4ms/step - loss: 0.0084 - accuracy: 0.9976 - val_loss: 0.0764 - val_accuracy: 0.9859\n",
      "Epoch 21/90\n",
      "919/919 [==============================] - 3s 4ms/step - loss: 0.0094 - accuracy: 0.9971 - val_loss: 0.0725 - val_accuracy: 0.9871\n",
      "Epoch 22/90\n",
      "919/919 [==============================] - 3s 4ms/step - loss: 0.0114 - accuracy: 0.9963 - val_loss: 0.0738 - val_accuracy: 0.9874\n",
      "Epoch 23/90\n",
      "919/919 [==============================] - 3s 4ms/step - loss: 0.0078 - accuracy: 0.9975 - val_loss: 0.0750 - val_accuracy: 0.9858\n",
      "Epoch 24/90\n",
      "919/919 [==============================] - 3s 4ms/step - loss: 0.0072 - accuracy: 0.9980 - val_loss: 0.0993 - val_accuracy: 0.9848\n",
      "Epoch 25/90\n",
      "919/919 [==============================] - 3s 4ms/step - loss: 0.0069 - accuracy: 0.9979 - val_loss: 0.0740 - val_accuracy: 0.9883\n",
      "Epoch 26/90\n",
      "919/919 [==============================] - 4s 4ms/step - loss: 0.0105 - accuracy: 0.9968 - val_loss: 0.0951 - val_accuracy: 0.9863\n",
      "Epoch 27/90\n",
      "919/919 [==============================] - 3s 4ms/step - loss: 0.0111 - accuracy: 0.9968 - val_loss: 0.0683 - val_accuracy: 0.9884\n",
      "Epoch 28/90\n",
      "919/919 [==============================] - 4s 4ms/step - loss: 0.0069 - accuracy: 0.9981 - val_loss: 0.0807 - val_accuracy: 0.9871\n",
      "Epoch 29/90\n",
      "919/919 [==============================] - 4s 4ms/step - loss: 0.0071 - accuracy: 0.9979 - val_loss: 0.1039 - val_accuracy: 0.9828\n",
      "Epoch 30/90\n",
      "919/919 [==============================] - 3s 4ms/step - loss: 0.0084 - accuracy: 0.9977 - val_loss: 0.0785 - val_accuracy: 0.9870\n",
      "Epoch 31/90\n",
      "919/919 [==============================] - 3s 4ms/step - loss: 0.0121 - accuracy: 0.9970 - val_loss: 0.0699 - val_accuracy: 0.9867\n",
      "Epoch 32/90\n",
      "919/919 [==============================] - 3s 4ms/step - loss: 0.0042 - accuracy: 0.9987 - val_loss: 0.0660 - val_accuracy: 0.9894\n",
      "Epoch 33/90\n",
      "919/919 [==============================] - 3s 3ms/step - loss: 0.0068 - accuracy: 0.9982 - val_loss: 0.0768 - val_accuracy: 0.9874\n",
      "Epoch 34/90\n",
      "919/919 [==============================] - 3s 4ms/step - loss: 0.0078 - accuracy: 0.9979 - val_loss: 0.0739 - val_accuracy: 0.9882\n",
      "Epoch 35/90\n",
      "919/919 [==============================] - 4s 4ms/step - loss: 0.0092 - accuracy: 0.9980 - val_loss: 0.0835 - val_accuracy: 0.9871\n",
      "Epoch 36/90\n",
      "919/919 [==============================] - 3s 4ms/step - loss: 0.0059 - accuracy: 0.9983 - val_loss: 0.0771 - val_accuracy: 0.9880\n",
      "Epoch 37/90\n",
      "919/919 [==============================] - 3s 4ms/step - loss: 0.0065 - accuracy: 0.9982 - val_loss: 0.1140 - val_accuracy: 0.9844\n",
      "Epoch 38/90\n",
      "919/919 [==============================] - 4s 4ms/step - loss: 0.0075 - accuracy: 0.9978 - val_loss: 0.1043 - val_accuracy: 0.9853\n",
      "Epoch 39/90\n",
      "919/919 [==============================] - 3s 4ms/step - loss: 0.0060 - accuracy: 0.9985 - val_loss: 0.0914 - val_accuracy: 0.9878\n",
      "Epoch 40/90\n",
      "919/919 [==============================] - 3s 4ms/step - loss: 0.0111 - accuracy: 0.9974 - val_loss: 0.1002 - val_accuracy: 0.9854\n",
      "Epoch 41/90\n",
      "919/919 [==============================] - 3s 4ms/step - loss: 0.0080 - accuracy: 0.9979 - val_loss: 0.0657 - val_accuracy: 0.9894\n",
      "Epoch 42/90\n",
      "919/919 [==============================] - 3s 4ms/step - loss: 0.0013 - accuracy: 0.9997 - val_loss: 0.0694 - val_accuracy: 0.9899\n",
      "Epoch 43/90\n",
      "919/919 [==============================] - 3s 4ms/step - loss: 0.0087 - accuracy: 0.9981 - val_loss: 0.0769 - val_accuracy: 0.9870\n",
      "Epoch 44/90\n",
      "919/919 [==============================] - 3s 4ms/step - loss: 0.0081 - accuracy: 0.9975 - val_loss: 0.0842 - val_accuracy: 0.9875\n",
      "Epoch 45/90\n",
      "919/919 [==============================] - 4s 4ms/step - loss: 0.0035 - accuracy: 0.9990 - val_loss: 0.0877 - val_accuracy: 0.9895\n",
      "Epoch 46/90\n",
      "919/919 [==============================] - 3s 4ms/step - loss: 0.0032 - accuracy: 0.9994 - val_loss: 0.0946 - val_accuracy: 0.9876\n",
      "Epoch 47/90\n",
      "919/919 [==============================] - 4s 4ms/step - loss: 0.0114 - accuracy: 0.9975 - val_loss: 0.0912 - val_accuracy: 0.9875\n",
      "Epoch 48/90\n",
      "919/919 [==============================] - 4s 4ms/step - loss: 0.0083 - accuracy: 0.9982 - val_loss: 0.0840 - val_accuracy: 0.9885\n",
      "Epoch 49/90\n",
      "919/919 [==============================] - 3s 4ms/step - loss: 0.0048 - accuracy: 0.9989 - val_loss: 0.1054 - val_accuracy: 0.9861\n",
      "Epoch 50/90\n",
      "919/919 [==============================] - 3s 4ms/step - loss: 0.0062 - accuracy: 0.9985 - val_loss: 0.1070 - val_accuracy: 0.9867\n",
      "Epoch 51/90\n",
      "919/919 [==============================] - 4s 4ms/step - loss: 0.0074 - accuracy: 0.9981 - val_loss: 0.0822 - val_accuracy: 0.9887\n",
      "Epoch 52/90\n",
      "919/919 [==============================] - 3s 4ms/step - loss: 0.0060 - accuracy: 0.9984 - val_loss: 0.0793 - val_accuracy: 0.9905\n",
      "Epoch 53/90\n",
      "919/919 [==============================] - 3s 4ms/step - loss: 0.0058 - accuracy: 0.9985 - val_loss: 0.1362 - val_accuracy: 0.9871\n",
      "Epoch 54/90\n",
      "919/919 [==============================] - 4s 4ms/step - loss: 0.0091 - accuracy: 0.9984 - val_loss: 0.1268 - val_accuracy: 0.9870\n",
      "Epoch 55/90\n",
      "919/919 [==============================] - 3s 4ms/step - loss: 0.0113 - accuracy: 0.9978 - val_loss: 0.1131 - val_accuracy: 0.9871\n",
      "Epoch 56/90\n",
      "919/919 [==============================] - 4s 4ms/step - loss: 0.0040 - accuracy: 0.9988 - val_loss: 0.0971 - val_accuracy: 0.9894\n",
      "Epoch 57/90\n",
      "919/919 [==============================] - 3s 4ms/step - loss: 0.0026 - accuracy: 0.9994 - val_loss: 0.1125 - val_accuracy: 0.9883\n",
      "Epoch 58/90\n",
      "919/919 [==============================] - 3s 4ms/step - loss: 0.0071 - accuracy: 0.9989 - val_loss: 0.1011 - val_accuracy: 0.9883\n",
      "Epoch 59/90\n",
      "919/919 [==============================] - 3s 4ms/step - loss: 0.0138 - accuracy: 0.9969 - val_loss: 0.1179 - val_accuracy: 0.9868\n",
      "Epoch 60/90\n",
      "919/919 [==============================] - 3s 4ms/step - loss: 0.0076 - accuracy: 0.9981 - val_loss: 0.1212 - val_accuracy: 0.9864\n",
      "Epoch 61/90\n",
      "919/919 [==============================] - 3s 4ms/step - loss: 6.2535e-04 - accuracy: 0.9997 - val_loss: 0.1159 - val_accuracy: 0.9883\n",
      "Epoch 62/90\n",
      "919/919 [==============================] - 3s 4ms/step - loss: 0.0028 - accuracy: 0.9991 - val_loss: 0.1213 - val_accuracy: 0.9875\n",
      "Epoch 63/90\n",
      "919/919 [==============================] - 4s 4ms/step - loss: 0.0132 - accuracy: 0.9972 - val_loss: 0.1359 - val_accuracy: 0.9847\n",
      "Epoch 64/90\n",
      "919/919 [==============================] - 3s 4ms/step - loss: 0.0049 - accuracy: 0.9989 - val_loss: 0.1156 - val_accuracy: 0.9877\n",
      "Epoch 65/90\n",
      "919/919 [==============================] - 4s 4ms/step - loss: 0.0068 - accuracy: 0.9987 - val_loss: 0.1013 - val_accuracy: 0.9894\n",
      "Epoch 66/90\n",
      "919/919 [==============================] - 3s 4ms/step - loss: 0.0034 - accuracy: 0.9991 - val_loss: 0.1075 - val_accuracy: 0.9877\n",
      "Epoch 67/90\n",
      "919/919 [==============================] - 4s 4ms/step - loss: 0.0062 - accuracy: 0.9985 - val_loss: 0.1103 - val_accuracy: 0.9899\n",
      "Epoch 68/90\n",
      "919/919 [==============================] - 3s 4ms/step - loss: 1.5037e-04 - accuracy: 0.9999 - val_loss: 0.1043 - val_accuracy: 0.9902\n",
      "Epoch 69/90\n",
      "919/919 [==============================] - 3s 4ms/step - loss: 6.7495e-06 - accuracy: 1.0000 - val_loss: 0.1041 - val_accuracy: 0.9903\n",
      "Epoch 70/90\n",
      "919/919 [==============================] - 3s 4ms/step - loss: 3.4472e-06 - accuracy: 1.0000 - val_loss: 0.1045 - val_accuracy: 0.9904\n",
      "Epoch 71/90\n",
      "919/919 [==============================] - 4s 4ms/step - loss: 2.5313e-06 - accuracy: 1.0000 - val_loss: 0.1051 - val_accuracy: 0.9905\n",
      "Epoch 72/90\n",
      "919/919 [==============================] - 4s 4ms/step - loss: 1.8182e-06 - accuracy: 1.0000 - val_loss: 0.1054 - val_accuracy: 0.9904\n",
      "Epoch 73/90\n",
      "919/919 [==============================] - 3s 4ms/step - loss: 1.3001e-06 - accuracy: 1.0000 - val_loss: 0.1063 - val_accuracy: 0.9905\n",
      "Epoch 74/90\n",
      "919/919 [==============================] - 4s 4ms/step - loss: 9.1080e-07 - accuracy: 1.0000 - val_loss: 0.1069 - val_accuracy: 0.9906\n",
      "Epoch 75/90\n",
      "919/919 [==============================] - 4s 4ms/step - loss: 6.1290e-07 - accuracy: 1.0000 - val_loss: 0.1076 - val_accuracy: 0.9906\n",
      "Epoch 76/90\n",
      "919/919 [==============================] - 3s 4ms/step - loss: 4.2512e-07 - accuracy: 1.0000 - val_loss: 0.1088 - val_accuracy: 0.9906\n",
      "Epoch 77/90\n",
      "919/919 [==============================] - 4s 4ms/step - loss: 2.8539e-07 - accuracy: 1.0000 - val_loss: 0.1097 - val_accuracy: 0.9907\n",
      "Epoch 78/90\n",
      "919/919 [==============================] - 3s 4ms/step - loss: 1.9254e-07 - accuracy: 1.0000 - val_loss: 0.1109 - val_accuracy: 0.9909\n",
      "Epoch 79/90\n",
      "919/919 [==============================] - 3s 4ms/step - loss: 1.2361e-07 - accuracy: 1.0000 - val_loss: 0.1119 - val_accuracy: 0.9908\n",
      "Epoch 80/90\n",
      "919/919 [==============================] - 3s 4ms/step - loss: 7.7408e-08 - accuracy: 1.0000 - val_loss: 0.1133 - val_accuracy: 0.9910\n",
      "Epoch 81/90\n",
      "919/919 [==============================] - 3s 4ms/step - loss: 5.1985e-08 - accuracy: 1.0000 - val_loss: 0.1147 - val_accuracy: 0.9910\n",
      "Epoch 82/90\n",
      "919/919 [==============================] - 4s 4ms/step - loss: 3.2373e-08 - accuracy: 1.0000 - val_loss: 0.1160 - val_accuracy: 0.9909\n",
      "Epoch 83/90\n",
      "919/919 [==============================] - 4s 4ms/step - loss: 2.0537e-08 - accuracy: 1.0000 - val_loss: 0.1171 - val_accuracy: 0.9910\n",
      "Epoch 84/90\n",
      "919/919 [==============================] - 4s 4ms/step - loss: 1.2663e-08 - accuracy: 1.0000 - val_loss: 0.1184 - val_accuracy: 0.9909\n",
      "Epoch 85/90\n",
      "919/919 [==============================] - 3s 4ms/step - loss: 8.1541e-09 - accuracy: 1.0000 - val_loss: 0.1198 - val_accuracy: 0.9910\n",
      "Epoch 86/90\n",
      "919/919 [==============================] - 3s 4ms/step - loss: 5.1252e-09 - accuracy: 1.0000 - val_loss: 0.1210 - val_accuracy: 0.9910\n",
      "Epoch 87/90\n",
      "919/919 [==============================] - 3s 4ms/step - loss: 3.2641e-09 - accuracy: 1.0000 - val_loss: 0.1226 - val_accuracy: 0.9911\n",
      "Epoch 88/90\n",
      "919/919 [==============================] - 3s 4ms/step - loss: 2.1571e-09 - accuracy: 1.0000 - val_loss: 0.1234 - val_accuracy: 0.9913\n",
      "Epoch 89/90\n",
      "919/919 [==============================] - 3s 4ms/step - loss: 1.4313e-09 - accuracy: 1.0000 - val_loss: 0.1251 - val_accuracy: 0.9912\n",
      "Epoch 90/90\n",
      "919/919 [==============================] - 3s 4ms/step - loss: 9.1232e-10 - accuracy: 1.0000 - val_loss: 0.1261 - val_accuracy: 0.9913\n"
     ]
    }
   ],
   "source": [
    "history = model.fit(\n",
    "                    x_train_float[:, :, :, np.newaxis], \n",
    "                    y_train_oh,\n",
    "                    batch_size=32,  # 32 объекта для подсчета градиента на каждом шаге\n",
    "                    epochs=90,  # 90 проходов по датасету\n",
    "                    validation_data = (x_train_float_val[:, :, :, np.newaxis], y_train_oh_val)\n",
    "                    )"
   ]
  },
  {
   "cell_type": "markdown",
   "metadata": {
    "papermill": {
     "duration": 1.320132,
     "end_time": "2021-03-13T19:24:22.198110",
     "exception": false,
     "start_time": "2021-03-13T19:24:20.877978",
     "status": "completed"
    },
    "tags": []
   },
   "source": [
    "## Output"
   ]
  },
  {
   "cell_type": "code",
   "execution_count": 8,
   "metadata": {
    "execution": {
     "iopub.execute_input": "2021-03-13T19:24:24.916358Z",
     "iopub.status.busy": "2021-03-13T19:24:24.915802Z",
     "iopub.status.idle": "2021-03-13T19:24:26.138420Z",
     "shell.execute_reply": "2021-03-13T19:24:26.137845Z"
    },
    "papermill": {
     "duration": 2.622358,
     "end_time": "2021-03-13T19:24:26.138559",
     "exception": false,
     "start_time": "2021-03-13T19:24:23.516201",
     "status": "completed"
    },
    "tags": []
   },
   "outputs": [],
   "source": [
    "predictions = model.predict_classes(x_test_float[:, :, :, np.newaxis])\n",
    "\n",
    "output = pd.DataFrame({'ImageId': sample.ImageId, 'Label': predictions})\n",
    "output.to_csv('my_submission.csv', index=False)"
   ]
  }
 ],
 "metadata": {
  "kernelspec": {
   "display_name": "Python 3",
   "language": "python",
   "name": "python3"
  },
  "language_info": {
   "codemirror_mode": {
    "name": "ipython",
    "version": 3
   },
   "file_extension": ".py",
   "mimetype": "text/x-python",
   "name": "python",
   "nbconvert_exporter": "python",
   "pygments_lexer": "ipython3",
   "version": "3.7.6"
  },
  "papermill": {
   "duration": 339.957607,
   "end_time": "2021-03-13T19:24:29.002163",
   "environment_variables": {},
   "exception": null,
   "input_path": "__notebook__.ipynb",
   "output_path": "__notebook__.ipynb",
   "parameters": {},
   "start_time": "2021-03-13T19:18:49.044556",
   "version": "2.1.0"
  }
 },
 "nbformat": 4,
 "nbformat_minor": 4
}
